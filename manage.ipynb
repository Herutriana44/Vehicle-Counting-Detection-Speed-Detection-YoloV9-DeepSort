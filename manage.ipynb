{
 "cells": [
  {
   "cell_type": "code",
   "execution_count": 6,
   "metadata": {},
   "outputs": [
    {
     "name": "stdout",
     "output_type": "stream",
     "text": [
      "Frame pertama berhasil diekstrak dan disimpan di: traffic_2_direction.jpg\n"
     ]
    }
   ],
   "source": [
    "import cv2\n",
    "\n",
    "# Path ke video yang akan diekstrak\n",
    "video_path = \"Road traffic video for object recognition - short.mp4\"  # Ganti dengan path video Anda\n",
    "output_frame_path = \"traffic_2_direction.jpg\"  # Path untuk menyimpan frame pertama\n",
    "\n",
    "# Membuka video\n",
    "cap = cv2.VideoCapture(video_path)\n",
    "\n",
    "# Mengecek apakah video berhasil dibuka\n",
    "if not cap.isOpened():\n",
    "    print(\"Error: Tidak dapat membuka video.\")\n",
    "else:\n",
    "    # Membaca frame pertama\n",
    "    ret, frame = cap.read()\n",
    "    if ret:\n",
    "        # Menyimpan frame pertama sebagai gambar\n",
    "        cv2.imwrite(output_frame_path, frame)\n",
    "        print(f\"Frame pertama berhasil diekstrak dan disimpan di: {output_frame_path}\")\n",
    "    else:\n",
    "        print(\"Error: Tidak dapat membaca frame pertama.\")\n",
    "\n",
    "# Menutup video\n",
    "cap.release()\n"
   ]
  },
  {
   "cell_type": "code",
   "execution_count": 13,
   "metadata": {},
   "outputs": [],
   "source": [
    "import cv2\n",
    "import numpy as np\n",
    "\n",
    "# Load the image\n",
    "image_path = output_frame_path\n",
    "image = cv2.imread(image_path)\n",
    "if image is None:\n",
    "    raise ValueError(\"Image not found. Please check the image path.\")\n"
   ]
  },
  {
   "cell_type": "code",
   "execution_count": 14,
   "metadata": {},
   "outputs": [
    {
     "name": "stdout",
     "output_type": "stream",
     "text": [
      "Image saved to output_image.jpg\n"
     ]
    }
   ],
   "source": [
    "# Variables for drawing rectangles\n",
    "start_point = None\n",
    "end_point = None\n",
    "is_drawing = False\n",
    "rectangles = []\n",
    "\n",
    "# Track window state\n",
    "is_minimized = False\n",
    "\n",
    "# Scale display settings\n",
    "window_scale = 0.5  # Scale factor for display, adjust as needed\n",
    "scaled_image = cv2.resize(image, (0, 0), fx=window_scale, fy=window_scale, interpolation=cv2.INTER_LINEAR)\n",
    "\n",
    "\n",
    "def draw_rectangle(event, x, y, flags, param):\n",
    "    global start_point, end_point, is_drawing, rectangles\n",
    "\n",
    "    # Scale coordinates back to original image size\n",
    "    scale_back_x = 1 / window_scale\n",
    "    scale_back_y = 1 / window_scale\n",
    "\n",
    "    if event == cv2.EVENT_LBUTTONDOWN:\n",
    "        # Start drawing\n",
    "        start_point = (int(x * scale_back_x), int(y * scale_back_y))\n",
    "        is_drawing = True\n",
    "\n",
    "    elif event == cv2.EVENT_MOUSEMOVE and is_drawing:\n",
    "        # Update endpoint as the mouse moves\n",
    "        end_point = (int(x * scale_back_x), int(y * scale_back_y))\n",
    "        temp_image = image.copy()\n",
    "        cv2.rectangle(temp_image, start_point, end_point, (0, 0, 255), 2)\n",
    "        temp_scaled = cv2.resize(temp_image, (0, 0), fx=window_scale, fy=window_scale, interpolation=cv2.INTER_LINEAR)\n",
    "        cv2.imshow(\"Image\", temp_scaled)\n",
    "\n",
    "    elif event == cv2.EVENT_LBUTTONUP:\n",
    "        # Finish drawing\n",
    "        end_point = (int(x * scale_back_x), int(y * scale_back_y))\n",
    "        is_drawing = False\n",
    "        rectangles.append((start_point, end_point))\n",
    "        cv2.rectangle(image, start_point, end_point, (0, 0, 255), 2)\n",
    "\n",
    "        # Calculate corner points\n",
    "        top_left = start_point\n",
    "        bottom_right = end_point\n",
    "        top_right = (end_point[0], start_point[1])\n",
    "        bottom_left = (start_point[0], end_point[1])\n",
    "\n",
    "        # Draw corner coordinates on the image\n",
    "        corners = [top_left, top_right, bottom_left, bottom_right]\n",
    "        for corner in corners:\n",
    "            text = f\"({corner[0]}, {corner[1]})\"\n",
    "            text_size = cv2.getTextSize(text, cv2.FONT_HERSHEY_SIMPLEX, 0.5, 1)[0]\n",
    "            text_x = corner[0]\n",
    "            text_y = corner[1] - 5 if corner[1] - 5 > 10 else corner[1] + text_size[1] + 5\n",
    "            cv2.rectangle(image, (text_x, text_y - text_size[1] - 5), (text_x + text_size[0] + 5, text_y + 5), (255, 255, 255), -1)\n",
    "            cv2.putText(image, text, (text_x, text_y), cv2.FONT_HERSHEY_SIMPLEX, 0.5, (0, 0, 0), 1)\n",
    "\n",
    "        scaled_image = cv2.resize(image, (0, 0), fx=window_scale, fy=window_scale, interpolation=cv2.INTER_LINEAR)\n",
    "        cv2.imshow(\"Image\", scaled_image)\n",
    "\n",
    "# Display the scaled image\n",
    "cv2.imshow(\"Image\", scaled_image)\n",
    "cv2.setMouseCallback(\"Image\", draw_rectangle)\n",
    "\n",
    "while True:\n",
    "    key = cv2.waitKey(1) & 0xFF\n",
    "    if key == ord('q'):\n",
    "        # Quit the program\n",
    "        break\n",
    "    elif key == ord('s'):\n",
    "        # Save the image with rectangles\n",
    "        output_path = \"output_image.jpg\"\n",
    "        cv2.imwrite(output_path, image)\n",
    "        print(f\"Image saved to {output_path}\")\n",
    "    elif key == ord('m'):\n",
    "        # Minimize the window\n",
    "        if not is_minimized:\n",
    "            cv2.destroyWindow(\"Image\")\n",
    "            is_minimized = True\n",
    "        else:\n",
    "            cv2.imshow(\"Image\", scaled_image)\n",
    "            is_minimized = False\n",
    "\n",
    "cv2.destroyAllWindows()\n"
   ]
  }
 ],
 "metadata": {
  "kernelspec": {
   "display_name": "Python 3",
   "language": "python",
   "name": "python3"
  },
  "language_info": {
   "codemirror_mode": {
    "name": "ipython",
    "version": 3
   },
   "file_extension": ".py",
   "mimetype": "text/x-python",
   "name": "python",
   "nbconvert_exporter": "python",
   "pygments_lexer": "ipython3",
   "version": "3.11.4"
  }
 },
 "nbformat": 4,
 "nbformat_minor": 2
}
